{
  "nbformat": 4,
  "nbformat_minor": 0,
  "metadata": {
    "colab": {
      "provenance": []
    },
    "kernelspec": {
      "name": "python3",
      "display_name": "Python 3"
    },
    "language_info": {
      "name": "python"
    }
  },
  "cells": [
    {
      "cell_type": "markdown",
      "source": [
        "# Data Types and Structures Questions"
      ],
      "metadata": {
        "id": "O1YryF0HHv5Q"
      }
    },
    {
      "cell_type": "markdown",
      "source": [
        "1. What are data structures, and why are they important?\n",
        "\n",
        "     -> Data structures are specialized formats for organizing, storing, and  managing data in a computer, allowing efficient access and modification.   Common examples include arrays, linked lists, stacks, queues, trees and graphs. They are important because they make storage and access faster and more efficient,helping programs run better and solve problems easily.\n"
      ],
      "metadata": {
        "id": "xSP4epuuH0le"
      }
    },
    {
      "cell_type": "markdown",
      "source": [
        "2.  Explain the difference between mutable and immutable data types with examples.\n",
        "\n",
        "     -> Mutable data types are those whose values that can be changed after they are created. We can add, modify or remove elements without creating a new object.Examples of mutable data types include list ,dictionaries and set.\n",
        "\n",
        "     Immutable data types are those values which cannot be changed once they are created. Any modification results in new objects.Examples of immutable data types include strings, tuple and numbers(integers and float)\n"
      ],
      "metadata": {
        "id": "L2GbzepmH0iH"
      }
    },
    {
      "cell_type": "markdown",
      "source": [
        "3. What are the main differences between lists and tuples in Python?\n",
        "\n",
        "     -> Lists are mutable, meaning their elements can be changed, added,or removed. They are defined using square brackets```[]```.\n",
        "\n",
        "     Tuples are immutable, so their elements cannot be changed once created.They are defined using parentheses```()```.\n"
      ],
      "metadata": {
        "id": "B7RIatiwH0f6"
      }
    },
    {
      "cell_type": "markdown",
      "source": [
        "4.  Describe how dictionaries store data.\n",
        "\n",
        "    -> Dictionaries in Python store data as key-value pairs,where each unique key is associated with a value. This allows efficient access,addition,and modification of data using the key.Internally,dictionaries use a hash table to quickly look up keys,making data retrieval very fast.Keys must be immutable types like  string or numbers,while values can be of any data type. The structures make dictionaries useful for organizing and managing data identified by unique data."
      ],
      "metadata": {
        "id": "xlczDoCUH0dq"
      }
    },
    {
      "cell_type": "markdown",
      "source": [
        "5.  Why might you use a set instead of a list in Python?\n",
        "\n",
        "     -> You might use a set instead of a list in Python when you want to store unique elements without duplicates,as sets automatically eliminate duplicate values. Sets also offer faster membership testing(checking if an item is in the collection)compared to the lists. Additionally, sets support useful mathematical operations like union,intersection,and difference for comparing and combining."
      ],
      "metadata": {
        "id": "qbTRR6QtH0bW"
      }
    },
    {
      "cell_type": "markdown",
      "source": [
        "6. What is a string in Python, and how is it different from a list?\n",
        "\n",
        "     -> A string in Python is a sequence of characters used to represent text. Strings are immutable,meaning their content cannot be changed once created.They are enclosed in single quotes```(...)``` or double quotes```(\"...\")```.\n",
        "     \n",
        "     A list is a collection of items that can be of different data types and is mutable, meaning its elements can be changed,added or removed. Lists are enclosed in square brackets```[...]```.\n"
      ],
      "metadata": {
        "id": "l-jdwDqWH0Zf"
      }
    },
    {
      "cell_type": "markdown",
      "source": [
        "7. How do tuples ensure data integrity in Python?\n",
        "\n",
        "     -> Tuples ensure data integrity in Python because they are immutable,meaning once a tuple is created its content cannot be changed,added or removed. This immutability protects the data from accidental modification,making tuples ideal for storing fixed collection of items that should remain constant throughout the program.By preventing changes, tuples help maintain the consistency and reliability of the data."
      ],
      "metadata": {
        "id": "25q-iLGtelex"
      }
    },
    {
      "cell_type": "markdown",
      "source": [
        "8. What is a hash table, and how does it relate to dictionaries in Python?\n",
        "\n",
        "     -> A hash table is a data structure that stores data in key-value pairs and uses a hash function to compute an index for storing each key. In Python dictionaries are implemented using hash tables, which allows fast data access, insertion and deletion based on the keys.\n",
        "\n"
      ],
      "metadata": {
        "id": "S3-I_t1aelbZ"
      }
    },
    {
      "cell_type": "markdown",
      "source": [
        "9. Can lists contain different data types in Python?\n",
        "\n",
        "\n",
        "     -> Yes, lists in Python can contain different data types. A single list can  hold integers,strings, floats and booleans,or even other lists and objects.\n",
        "\n",
        "     Example:\n",
        "    ```\n",
        "     my_list = [1, \"hello\", 2.34, \"true\", [3,5]]\n",
        "    ```"
      ],
      "metadata": {
        "id": "EY4pGdZ5elX9"
      }
    },
    {
      "cell_type": "markdown",
      "source": [
        "10.  Explain why strings are immutable in Python.\n",
        "\n",
        "     -> Strings are immutable in Python to ensure data integrity,security and performance.Once a string is created it cannot be changed.This makes string safer to use in programs,especially when they are shared across different parts of code. It also allows Python to optimize memory use by reusing string objects."
      ],
      "metadata": {
        "id": "2ZTnnbH6elUZ"
      }
    },
    {
      "cell_type": "markdown",
      "source": [
        "11. What advantages do dictionaries offer over lists for certain tasks?\n",
        "\n",
        "     -> Dictionaries offer faster data access using keys and are better for tasks where data needs to be labeled or associated with unique identifiers.They make it easier to store and retrieve related information,like a person's name and age,without relying on index positions."
      ],
      "metadata": {
        "id": "3l9WxqFwelRN"
      }
    },
    {
      "cell_type": "markdown",
      "source": [
        "12. Describe a scenario where using a tuple would be preferable over a list.\n",
        "\n",
        "     -> A tuple is preferable over a list when you need to store a fixed set of values that should not change. For example,storing user credentials like ```(username,password)``` as an immutable pair is best done with a tuple to ensure the data remains unchanged and secure."
      ],
      "metadata": {
        "id": "adZw7D0zelJb"
      }
    },
    {
      "cell_type": "markdown",
      "source": [
        "13. How do sets handle duplicate values in Python?\n",
        "\n",
        "     -> Sets automatically remove duplicate values.When you add elements to a set,any duplicates are ignored,so each element in a set is unique. This makes sets useful for storing collections of distinct items.\n"
      ],
      "metadata": {
        "id": "KXdANuo6ek_y"
      }
    },
    {
      "cell_type": "markdown",
      "source": [
        "14. How does the “in” keyword work differently for lists and dictionaries.\n",
        "\n",
        "     -> In lists,the```in``` keyword checks if a value exists in the list.\n",
        "\n",
        "      In dictionaries ,the ```in```keyword checks if a key exists, not a value.\n",
        "\n",
        "     Example:\n",
        "     ```\n",
        "     # List\n",
        "     my_list = [1, 2, 3]\n",
        "     print(1 in my_list)  # True (checks values)\n",
        "\n",
        "     # Dictionary\n",
        "     my_dict = {\"a\": 1, \"b\": 2}\n",
        "     print(\"b\" in my_dict)  # True (checks keys)\n",
        "     print(2 in my_dict)    # False (does not check values)\n",
        "     ```"
      ],
      "metadata": {
        "id": "nwhOqCcFekWQ"
      }
    },
    {
      "cell_type": "markdown",
      "source": [
        " 15. Can you modify the elements of a tuple? Explain why or why not.\n",
        "\n",
        "  -> No, you cannot modify the elements of a tuple because tuples are   immutable. Once a tuple is created its contents cannot be changed ,added or removed. This immutability ensures data integrity and makes tuples useful for storing fixed collections of data."
      ],
      "metadata": {
        "id": "Za1h3R4IfU1O"
      }
    },
    {
      "cell_type": "markdown",
      "source": [
        "16. What is a nested dictionary, and give an example of its use case?\n",
        "\n",
        "     -> A nested dictionary is a dictionary that contains another dictionary as value for one or more keys.It allows you to organize complex data with multiple levels.\n",
        "\n",
        "     Example use case:\n",
        "     A nested dictionary can store employee data, where each employee ID maps to another dictionary with details like name, department, and contact info.\n",
        "    ```\n",
        "     employees={\n",
        "       \"E001\":{\"name\": \"Gia \",\"department\": \"Sales\", \"contact\":{\"email\": \"gia@gmail.com\",\"phone\": 7845896548}},\n",
        "       \"E002\":{\"name\": \"Evan\",\"department\":\"HR\",\"contact\":{\"email\":\"evan@gmail.com\",\"phone\": 8459756985}},}\n",
        "    ```"
      ],
      "metadata": {
        "id": "oqzFhgtofSf-"
      }
    },
    {
      "cell_type": "markdown",
      "source": [
        "17.  Describe the time complexity of accessing elements in a dictionary.\n",
        "\n",
        "     -> Accessing elements in a dictionary generally has a time complexity of   O(1) , meaning it takes constant time regardless of the dictionary size. This is because dictionaries use a hash table,allowing quick lookups by key. In rare cases,due to hash collisions the time complexity can degrade to O(n),where n is the number of elements,but this is uncommon with good hash functions."
      ],
      "metadata": {
        "id": "NW8j8Hr4fRkw"
      }
    },
    {
      "cell_type": "markdown",
      "source": [
        " 18. In what situations are lists preferred over dictionaries?\n",
        "\n",
        "     -> Lists are preferred over dictionaries when you need an ordered collection of items,especially when the order matters or you want to access elements by their position(index). lists are also better when you have duplicate values or when you need to store simple sequences without key-value pairs."
      ],
      "metadata": {
        "id": "d5JfQxdmflMv"
      }
    },
    {
      "cell_type": "markdown",
      "source": [
        "19. Why are dictionaries considered unordered, and how does that affect data retrieval?\n",
        "\n",
        "     -> Dictionaries were considered unordered in Python versions before 3.7 because they did not preserve the order of key-value pairs.This meant the order of items could change, but this didn't affect data retrieval since access is always by key,not by position. From Python 3.7 onwards, dictionaries preserve insertion order, but they are still accessed by key, so the order usually does not affect data retrieval."
      ],
      "metadata": {
        "id": "a_UaKB9tflA2"
      }
    },
    {
      "cell_type": "markdown",
      "source": [
        "20. Explain the difference between a list and a dictionary in terms of data retrieval.\n",
        "\n",
        "     -> Lists retrieve data by index, which means you can access elements based on their position in the list. This can be slower for large lists since you may need to search through elements.\n",
        "\n",
        "     Dictionaries retrieves data by key,allowing faster access because they use a hash table to quickly find values associated with unique keys.  \n"
      ],
      "metadata": {
        "id": "ewXIuT_pfk1s"
      }
    },
    {
      "cell_type": "markdown",
      "source": [
        "#  Practical Questions"
      ],
      "metadata": {
        "id": "1H7E7cIuH0W9"
      }
    },
    {
      "cell_type": "markdown",
      "source": [
        "1.  Write a code to create a string with your name and print it."
      ],
      "metadata": {
        "id": "U4JNQUaYH9Nl"
      }
    },
    {
      "cell_type": "code",
      "source": [
        "name = \"Riya Arora\"\n",
        "print(name)"
      ],
      "metadata": {
        "colab": {
          "base_uri": "https://localhost:8080/"
        },
        "id": "0bdUUKagIFUz",
        "outputId": "11ade74e-167a-4934-a107-cab2af5a22e5"
      },
      "execution_count": null,
      "outputs": [
        {
          "output_type": "stream",
          "name": "stdout",
          "text": [
            "Riya Arora\n"
          ]
        }
      ]
    },
    {
      "cell_type": "markdown",
      "source": [
        "2. Write a code to find the length of the string \"Hello World\"."
      ],
      "metadata": {
        "id": "TYsbgvuCH9KI"
      }
    },
    {
      "cell_type": "code",
      "source": [
        "s = \"Hello World\"\n",
        "print(len(s))"
      ],
      "metadata": {
        "colab": {
          "base_uri": "https://localhost:8080/"
        },
        "id": "ybKJlGlaIXJl",
        "outputId": "e653b7ce-cb59-4434-ac53-7353761f6f6b"
      },
      "execution_count": null,
      "outputs": [
        {
          "output_type": "stream",
          "name": "stdout",
          "text": [
            "11\n"
          ]
        }
      ]
    },
    {
      "cell_type": "markdown",
      "source": [
        "3. Write a code to slice the first 3 characters from the string \"Python Programming\"."
      ],
      "metadata": {
        "id": "XaTphJcLH9G9"
      }
    },
    {
      "cell_type": "code",
      "source": [
        "x = \"Python Programming\"\n",
        "print(x[:3])"
      ],
      "metadata": {
        "colab": {
          "base_uri": "https://localhost:8080/"
        },
        "id": "2frQIgfgIi07",
        "outputId": "0157f032-9d38-459a-bc3e-aef992c97b0c"
      },
      "execution_count": null,
      "outputs": [
        {
          "output_type": "stream",
          "name": "stdout",
          "text": [
            "Pyt\n"
          ]
        }
      ]
    },
    {
      "cell_type": "markdown",
      "source": [
        "4. Write a code to convert the string \"hello\" to uppercase."
      ],
      "metadata": {
        "id": "NzvEB6UcH9EW"
      }
    },
    {
      "cell_type": "code",
      "source": [
        "text = \"hello\"\n",
        "print(text.upper())"
      ],
      "metadata": {
        "colab": {
          "base_uri": "https://localhost:8080/"
        },
        "id": "veS7JfQUI58Y",
        "outputId": "5ba5612d-2893-481a-d243-3bd280182728"
      },
      "execution_count": null,
      "outputs": [
        {
          "output_type": "stream",
          "name": "stdout",
          "text": [
            "HELLO\n"
          ]
        }
      ]
    },
    {
      "cell_type": "markdown",
      "source": [
        "5. Write a code to replace the word \"apple\" with \"orange\" in the string \"I like apple\"."
      ],
      "metadata": {
        "id": "M3Cd-kmFH9Bo"
      }
    },
    {
      "cell_type": "code",
      "source": [
        "a = \"I like apple.\"\n",
        "print(a.replace(\"apple\", \"orange\"))"
      ],
      "metadata": {
        "colab": {
          "base_uri": "https://localhost:8080/"
        },
        "id": "UAf0vQagJPaE",
        "outputId": "830db888-38f9-44af-a2fd-d73525a61afb"
      },
      "execution_count": null,
      "outputs": [
        {
          "output_type": "stream",
          "name": "stdout",
          "text": [
            "I like orange.\n"
          ]
        }
      ]
    },
    {
      "cell_type": "markdown",
      "source": [
        "6. Write a code to create a list with numbers 1 to 5 and print it."
      ],
      "metadata": {
        "id": "OW5qM-N2H8_E"
      }
    },
    {
      "cell_type": "code",
      "source": [
        "numbers = list(range(1, 6))\n",
        "print(numbers)\n"
      ],
      "metadata": {
        "colab": {
          "base_uri": "https://localhost:8080/"
        },
        "id": "hISl6Ya_JqGR",
        "outputId": "635b6489-6c6c-4995-dcce-fad6ac4fc5e3"
      },
      "execution_count": null,
      "outputs": [
        {
          "output_type": "stream",
          "name": "stdout",
          "text": [
            "[1, 2, 3, 4, 5]\n"
          ]
        }
      ]
    },
    {
      "cell_type": "markdown",
      "source": [
        "7. Write a code to append the number 10 to the list [1, 2, 3, 4]"
      ],
      "metadata": {
        "id": "zYUnFFduH88o"
      }
    },
    {
      "cell_type": "code",
      "source": [
        "list1 = [1, 2, 3, 4]\n",
        "list1.append(10)\n",
        "print(list1)"
      ],
      "metadata": {
        "colab": {
          "base_uri": "https://localhost:8080/"
        },
        "id": "2PaxfmaMLUfY",
        "outputId": "9dee044e-d4c6-4918-b515-c27d89036b34"
      },
      "execution_count": null,
      "outputs": [
        {
          "output_type": "stream",
          "name": "stdout",
          "text": [
            "[1, 2, 3, 4, 10]\n"
          ]
        }
      ]
    },
    {
      "cell_type": "markdown",
      "source": [
        "8. Write a code to remove the number 3 from the list [1, 2, 3, 4, 5]."
      ],
      "metadata": {
        "id": "e2inVSo1H86F"
      }
    },
    {
      "cell_type": "code",
      "source": [
        "l = [1, 2, 3, 4, 5]\n",
        "l.remove(3)\n",
        "print(l)"
      ],
      "metadata": {
        "colab": {
          "base_uri": "https://localhost:8080/"
        },
        "id": "o2Odhb7iLvA0",
        "outputId": "8ba51964-08fe-4a9c-82b4-df8406665b1a"
      },
      "execution_count": null,
      "outputs": [
        {
          "output_type": "stream",
          "name": "stdout",
          "text": [
            "[1, 2, 4, 5]\n"
          ]
        }
      ]
    },
    {
      "cell_type": "markdown",
      "source": [
        "9. Write a code to access the second element in the list ['a', 'b', 'c', 'd']."
      ],
      "metadata": {
        "id": "xZ9W7bfrH83Y"
      }
    },
    {
      "cell_type": "code",
      "source": [
        "my_list =  ['a', 'b', 'c', 'd']\n",
        "print(my_list[1])"
      ],
      "metadata": {
        "colab": {
          "base_uri": "https://localhost:8080/"
        },
        "id": "jKAWWp92L6Y6",
        "outputId": "5f629168-b854-4209-d3da-08dc90c4c1a1"
      },
      "execution_count": null,
      "outputs": [
        {
          "output_type": "stream",
          "name": "stdout",
          "text": [
            "b\n"
          ]
        }
      ]
    },
    {
      "cell_type": "markdown",
      "source": [
        "10.  Write a code to reverse the list [10, 20, 30, 40, 50]."
      ],
      "metadata": {
        "id": "kYV4b4CQH80u"
      }
    },
    {
      "cell_type": "code",
      "source": [
        "original_list =  [10, 20, 30, 40, 50]\n",
        "reversed_list = original_list[::-1]\n",
        "print(reversed_list)"
      ],
      "metadata": {
        "colab": {
          "base_uri": "https://localhost:8080/"
        },
        "id": "tBNkGPe1MmDc",
        "outputId": "b4d6aa26-9640-40c9-8beb-90b001dd7005"
      },
      "execution_count": null,
      "outputs": [
        {
          "output_type": "stream",
          "name": "stdout",
          "text": [
            "[50, 40, 30, 20, 10]\n"
          ]
        }
      ]
    },
    {
      "cell_type": "markdown",
      "source": [
        "11. 11. Write a code to create a tuple with the elements 100, 200, 300 and print it."
      ],
      "metadata": {
        "id": "bpneBKvUH8og"
      }
    },
    {
      "cell_type": "code",
      "source": [
        "my_tuple =(100, 200, 300)\n",
        "print(my_tuple)"
      ],
      "metadata": {
        "colab": {
          "base_uri": "https://localhost:8080/"
        },
        "id": "adCBmEnVNAgc",
        "outputId": "dfa289c0-af32-4131-c4a9-5ed8a9012280"
      },
      "execution_count": null,
      "outputs": [
        {
          "output_type": "stream",
          "name": "stdout",
          "text": [
            "(100, 200, 300)\n"
          ]
        }
      ]
    },
    {
      "cell_type": "markdown",
      "source": [
        "12. . Write a code to access the second-to-last element of the tuple ('red', 'green', 'blue', 'yellow')."
      ],
      "metadata": {
        "id": "Nyes9hcSNAQ2"
      }
    },
    {
      "cell_type": "code",
      "source": [
        "t = ('red', 'green', 'blue', 'yellow')\n",
        "print(t[-2])"
      ],
      "metadata": {
        "colab": {
          "base_uri": "https://localhost:8080/"
        },
        "id": "3DVFhrIKNX_9",
        "outputId": "da5985d3-e3ae-4ca5-ad9a-8bdfb1e7c7b4"
      },
      "execution_count": null,
      "outputs": [
        {
          "output_type": "stream",
          "name": "stdout",
          "text": [
            "blue\n"
          ]
        }
      ]
    },
    {
      "cell_type": "markdown",
      "source": [
        "13. Write a code to find the minimum number in the tuple (10, 20, 5, 15)."
      ],
      "metadata": {
        "id": "5U06T4aANAOO"
      }
    },
    {
      "cell_type": "code",
      "source": [
        "min_num = (10, 20, 5, 15)\n",
        "print(min(min_num))"
      ],
      "metadata": {
        "colab": {
          "base_uri": "https://localhost:8080/"
        },
        "id": "IFxxRg3-ODPW",
        "outputId": "3e9f9fc5-e7ed-446d-c553-b5b32986ffed"
      },
      "execution_count": null,
      "outputs": [
        {
          "output_type": "stream",
          "name": "stdout",
          "text": [
            "5\n"
          ]
        }
      ]
    },
    {
      "cell_type": "markdown",
      "source": [
        "14. Write a code to find the index of the element \"cat\" in the tuple ('dog', 'cat', 'rabbit')."
      ],
      "metadata": {
        "id": "IzJnf0vwNALo"
      }
    },
    {
      "cell_type": "code",
      "source": [
        "elements =  ('dog', 'cat', 'rabbit')\n",
        "print(elements.index('cat'))"
      ],
      "metadata": {
        "colab": {
          "base_uri": "https://localhost:8080/"
        },
        "id": "zMprgB6bOf1G",
        "outputId": "83c8d7f5-1160-44dd-abf1-a04957e9e4bd"
      },
      "execution_count": null,
      "outputs": [
        {
          "output_type": "stream",
          "name": "stdout",
          "text": [
            "1\n"
          ]
        }
      ]
    },
    {
      "cell_type": "markdown",
      "source": [
        " 15. Write a code to create a tuple containing three different fruits and check if \"kiwi\" is in it."
      ],
      "metadata": {
        "id": "yIyCELzzNAI_"
      }
    },
    {
      "cell_type": "code",
      "source": [
        "fruits = (\"apple\", \"kiwi\", \"mango\")\n",
        "if \"kiwi\" in fruits:\n",
        "  print(\"kiwi is in the tuple.\")\n",
        "else:\n",
        "  print(\"kiwi is not in the tuple.\")"
      ],
      "metadata": {
        "colab": {
          "base_uri": "https://localhost:8080/"
        },
        "id": "NbOlPab9Ox0B",
        "outputId": "96124b71-54d0-422c-dc65-54554e593bfd"
      },
      "execution_count": null,
      "outputs": [
        {
          "output_type": "stream",
          "name": "stdout",
          "text": [
            "kiwi is in the tuple.\n"
          ]
        }
      ]
    },
    {
      "cell_type": "markdown",
      "source": [
        "16. Write a code to create a set with the elements 'a', 'b', 'c' and print it."
      ],
      "metadata": {
        "id": "VIhnNzmRNAGU"
      }
    },
    {
      "cell_type": "code",
      "source": [
        "my_set = {\"a\",\"b\",\"c\"}\n",
        "print(my_set)"
      ],
      "metadata": {
        "colab": {
          "base_uri": "https://localhost:8080/"
        },
        "id": "UbyqAw5ZP4kd",
        "outputId": "c228ea4d-f453-4e3b-b55e-a2511f5eb0d0"
      },
      "execution_count": null,
      "outputs": [
        {
          "output_type": "stream",
          "name": "stdout",
          "text": [
            "{'a', 'b', 'c'}\n"
          ]
        }
      ]
    },
    {
      "cell_type": "markdown",
      "source": [
        "17. Write a code to clear all elements from the set {1, 2, 3, 4, 5}."
      ],
      "metadata": {
        "id": "aMlqUmQ4QYia"
      }
    },
    {
      "cell_type": "code",
      "source": [
        "set1 = {1, 2, 3, 4, 5}\n",
        "set1.clear()\n",
        "print(set1)"
      ],
      "metadata": {
        "colab": {
          "base_uri": "https://localhost:8080/"
        },
        "id": "VmNgWxe0QZeR",
        "outputId": "92424a48-ad91-47e1-ebd5-c376583b4b1a"
      },
      "execution_count": null,
      "outputs": [
        {
          "output_type": "stream",
          "name": "stdout",
          "text": [
            "set()\n"
          ]
        }
      ]
    },
    {
      "cell_type": "markdown",
      "source": [
        "18.  Write a code to remove the element 4 from the set {1, 2, 3, 4}.\n"
      ],
      "metadata": {
        "id": "IUKQSAQNQYe8"
      }
    },
    {
      "cell_type": "code",
      "source": [
        "num = {1, 2, 3, 4}\n",
        "num.remove(4)\n",
        "print(num)"
      ],
      "metadata": {
        "colab": {
          "base_uri": "https://localhost:8080/"
        },
        "id": "bx_e0dAYQnIc",
        "outputId": "ea9237e0-5f26-4c3c-8a14-20f38d1a62c5"
      },
      "execution_count": null,
      "outputs": [
        {
          "output_type": "stream",
          "name": "stdout",
          "text": [
            "{1, 2, 3}\n"
          ]
        }
      ]
    },
    {
      "cell_type": "markdown",
      "source": [
        "19. Write a code to find the union of two sets {1, 2, 3} and {3, 4, 5}."
      ],
      "metadata": {
        "id": "EgLQzUPGQYcG"
      }
    },
    {
      "cell_type": "code",
      "source": [
        "a = {1, 2, 3}\n",
        "b = { 3, 4, 5}\n",
        "print(a.union(b))\n"
      ],
      "metadata": {
        "colab": {
          "base_uri": "https://localhost:8080/"
        },
        "id": "b0haw1siQz-V",
        "outputId": "04c1c524-536d-4e3f-bfba-5e43cddf966a"
      },
      "execution_count": null,
      "outputs": [
        {
          "output_type": "stream",
          "name": "stdout",
          "text": [
            "{1, 2, 3, 4, 5}\n"
          ]
        }
      ]
    },
    {
      "cell_type": "markdown",
      "source": [
        " 20. Write a code to find the intersection of two sets {1, 2, 3} and {2, 3, 4}."
      ],
      "metadata": {
        "id": "CtvP0FvSQYZ3"
      }
    },
    {
      "cell_type": "code",
      "source": [
        "num1 = {1, 2, 3}\n",
        "num2 ={2, 3, 4}\n",
        "print(num1.intersection(num2))"
      ],
      "metadata": {
        "colab": {
          "base_uri": "https://localhost:8080/"
        },
        "id": "KIyEgpCARFjV",
        "outputId": "405d24f7-c091-4881-cc2f-67b1ec704446"
      },
      "execution_count": null,
      "outputs": [
        {
          "output_type": "stream",
          "name": "stdout",
          "text": [
            "{2, 3}\n"
          ]
        }
      ]
    },
    {
      "cell_type": "markdown",
      "source": [
        " 21. Write a code to create a dictionary with the keys \"name\", \"age\", and \"city\", and print it"
      ],
      "metadata": {
        "id": "jE7rKp7-QYXZ"
      }
    },
    {
      "cell_type": "code",
      "source": [
        "intro = {\"name\":\"Gia\", \"age\": 20, \"city\" :\"Jaipur\"}\n",
        "print(intro)"
      ],
      "metadata": {
        "colab": {
          "base_uri": "https://localhost:8080/"
        },
        "id": "CGmWnQIPM_kz",
        "outputId": "810463ce-c1d1-4e14-e291-66ce034a97e7"
      },
      "execution_count": null,
      "outputs": [
        {
          "output_type": "stream",
          "name": "stdout",
          "text": [
            "{'name': 'Gia', 'age': 20, 'city': 'Jaipur'}\n"
          ]
        }
      ]
    },
    {
      "cell_type": "markdown",
      "source": [
        "22. Write a code to add a new key-value pair \"country\": \"USA\" to the dictionary {'name': 'John', 'age': 25}."
      ],
      "metadata": {
        "id": "kAeOlr03RTAs"
      }
    },
    {
      "cell_type": "code",
      "source": [
        "my_dict = {'name': 'John', 'age': 25}\n",
        "my_dict[\"country\"] =\"USA\"\n",
        "print(my_dict)"
      ],
      "metadata": {
        "colab": {
          "base_uri": "https://localhost:8080/"
        },
        "id": "iL1KHoXrR6q6",
        "outputId": "bc6761eb-f7fc-41b9-e57c-ece80207e8f4"
      },
      "execution_count": null,
      "outputs": [
        {
          "output_type": "stream",
          "name": "stdout",
          "text": [
            "{'name': 'John', 'age': 25, 'country': 'USA'}\n"
          ]
        }
      ]
    },
    {
      "cell_type": "markdown",
      "source": [
        " 23. Write a code to access the value associated with the key \"name\" in the dictionary {'name': 'Alice', 'age': 30}."
      ],
      "metadata": {
        "id": "PlZT4mKmRS56"
      }
    },
    {
      "cell_type": "code",
      "source": [
        "name_value =  {'name': 'Alice', 'age': 30}\n",
        "print(name_value[\"name\"])"
      ],
      "metadata": {
        "colab": {
          "base_uri": "https://localhost:8080/"
        },
        "id": "JKoPvNRxSMH-",
        "outputId": "ccd4c484-d17d-4f82-e484-11c0fdc8d61e"
      },
      "execution_count": null,
      "outputs": [
        {
          "output_type": "stream",
          "name": "stdout",
          "text": [
            "Alice\n"
          ]
        }
      ]
    },
    {
      "cell_type": "markdown",
      "source": [
        " 24. Write a code to remove the key \"age\" from the dictionary {'name': 'Bob', 'age': 22, 'city': 'New York'}."
      ],
      "metadata": {
        "id": "K-v_sV9WRS2X"
      }
    },
    {
      "cell_type": "code",
      "source": [
        "data = {'name': 'Bob', 'age': 22, 'city': 'New York'}\n",
        "data.pop(\"age\")\n",
        "print(data)\n",
        "\n"
      ],
      "metadata": {
        "colab": {
          "base_uri": "https://localhost:8080/"
        },
        "id": "-o6h__gCS8-8",
        "outputId": "806b177d-3153-4c1a-b9f1-f4ffb7634e17"
      },
      "execution_count": null,
      "outputs": [
        {
          "output_type": "stream",
          "name": "stdout",
          "text": [
            "{'name': 'Bob', 'city': 'New York'}\n"
          ]
        }
      ]
    },
    {
      "cell_type": "markdown",
      "source": [
        " 25. Write a code to check if the key \"city\" exists in the dictionary {'name': 'Alice', 'city': 'Paris'}"
      ],
      "metadata": {
        "id": "nd-GCMh3RSzX"
      }
    },
    {
      "cell_type": "code",
      "source": [
        "info = {'name': 'Alice', 'city': 'Paris'}\n",
        "if \"city\" in info:\n",
        "  print(\"city is in the dictionary.\")\n",
        "else:\n",
        "  print(\"city is not in the dictionary\")"
      ],
      "metadata": {
        "colab": {
          "base_uri": "https://localhost:8080/"
        },
        "id": "zlheZYvrT14Q",
        "outputId": "b78f26ca-c2a6-4f5d-e205-10a1b47a408a"
      },
      "execution_count": null,
      "outputs": [
        {
          "output_type": "stream",
          "name": "stdout",
          "text": [
            "city is in the dictionary.\n"
          ]
        }
      ]
    },
    {
      "cell_type": "markdown",
      "source": [
        "26. Write a code to create a list, a tuple, and a dictionary, and print them all."
      ],
      "metadata": {
        "id": "xCYlttEXRSw3"
      }
    },
    {
      "cell_type": "code",
      "source": [
        "lis = [1,2,3,4,5] # list\n",
        "tupl =('a','b','c','d') # tuple\n",
        "dic = {\"name\":\"Evan\", \"age\": 20 , \"city\":\"Pune\"} # dictionary\n",
        "print(\"List:\",lis)\n",
        "print(\"Tuple:\",tupl)\n",
        "print(\"Dictionary:\",dic)\n"
      ],
      "metadata": {
        "colab": {
          "base_uri": "https://localhost:8080/"
        },
        "id": "6BC3qS3YUSKG",
        "outputId": "a334c189-ecc0-4f90-cc4d-a678de08c2a2"
      },
      "execution_count": null,
      "outputs": [
        {
          "output_type": "stream",
          "name": "stdout",
          "text": [
            "List: [1, 2, 3, 4, 5]\n",
            "Tuple: ('a', 'b', 'c', 'd')\n",
            "Dictionary: {'name': 'Evan', 'age': 20, 'city': 'Pune'}\n"
          ]
        }
      ]
    },
    {
      "cell_type": "markdown",
      "source": [
        "27. Write a code to create a list of 5 random numbers between 1 and 100, sort it in ascending order, and print the  result.(replaced)"
      ],
      "metadata": {
        "id": "-bUlnxDYRSuS"
      }
    },
    {
      "cell_type": "code",
      "source": [
        "import random\n",
        "random_numbers = random.sample(range(1,101),5)\n",
        "random_numbers.sort()\n",
        "print(random_numbers)"
      ],
      "metadata": {
        "colab": {
          "base_uri": "https://localhost:8080/"
        },
        "id": "6N8LpBxhaNPQ",
        "outputId": "7386f83e-2492-4e31-bdf5-844efc1edce1"
      },
      "execution_count": null,
      "outputs": [
        {
          "output_type": "stream",
          "name": "stdout",
          "text": [
            "[5, 16, 62, 79, 95]\n"
          ]
        }
      ]
    },
    {
      "cell_type": "markdown",
      "source": [
        "28. Write a code to create a list with strings and print the element at the third index."
      ],
      "metadata": {
        "id": "dsxTdFkpWXX7"
      }
    },
    {
      "cell_type": "code",
      "source": [
        "countries = [\"India\", \"USA\", \"UK\", \"Germany\", \"Japan\"]\n",
        "print(countries[3])"
      ],
      "metadata": {
        "colab": {
          "base_uri": "https://localhost:8080/"
        },
        "id": "CmqfbpVnaTAp",
        "outputId": "8e2317f8-e278-43b9-ed4a-6d17ebffb5dc"
      },
      "execution_count": null,
      "outputs": [
        {
          "output_type": "stream",
          "name": "stdout",
          "text": [
            "Germany\n"
          ]
        }
      ]
    },
    {
      "cell_type": "markdown",
      "source": [
        "29. Write a code to combine two dictionaries into one and print the result.\n"
      ],
      "metadata": {
        "id": "-Tsfs8ajWXIh"
      }
    },
    {
      "cell_type": "code",
      "source": [
        "dict1 = {\"name\": \"Lana\" , \"age\": 19}\n",
        "dict2 = {\"country\":\"Germany\", \"email\": \"lana@gmail.com\"}\n",
        "dict1.update(dict2)\n",
        "print(dict1)"
      ],
      "metadata": {
        "colab": {
          "base_uri": "https://localhost:8080/"
        },
        "id": "yeqI3llza6rE",
        "outputId": "b3a3cdb8-62ed-4115-f600-e28d02761e58"
      },
      "execution_count": null,
      "outputs": [
        {
          "output_type": "stream",
          "name": "stdout",
          "text": [
            "{'name': 'Lana', 'age': 19, 'country': 'Germany', 'email': 'lana@gmail.com'}\n"
          ]
        }
      ]
    },
    {
      "cell_type": "markdown",
      "source": [
        "30. Write a code to convert a list of strings into a set."
      ],
      "metadata": {
        "id": "KHKvY9-pWW9l"
      }
    },
    {
      "cell_type": "code",
      "source": [
        "users = [\"gia\", \"evan\", \"charlie\", \"nick\"]\n",
        "my_set = set(users)\n",
        "print(my_set)\n"
      ],
      "metadata": {
        "colab": {
          "base_uri": "https://localhost:8080/"
        },
        "id": "KX5eMnkjWWpB",
        "outputId": "01826636-46e7-466a-8991-6a33657b0bc2"
      },
      "execution_count": null,
      "outputs": [
        {
          "output_type": "stream",
          "name": "stdout",
          "text": [
            "{'gia', 'evan', 'charlie', 'nick'}\n"
          ]
        }
      ]
    },
    {
      "cell_type": "code",
      "source": [],
      "metadata": {
        "id": "_VQxOdxDc3Pw"
      },
      "execution_count": null,
      "outputs": []
    }
  ]
}